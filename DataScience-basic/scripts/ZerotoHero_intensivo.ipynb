{
 "cells": [
  {
   "cell_type": "markdown",
   "metadata": {
    "id": "KJ7QmVKlprXN"
   },
   "source": [
    "# Clase de Python + R + Chat GPT intensivo"
   ]
  },
  {
   "cell_type": "code",
   "execution_count": null,
   "metadata": {
    "id": "tFXOKn0rpq_U"
   },
   "outputs": [],
   "source": [
    "def check_password(admin,password):\n",
    "  if admin == \"Benito\" and password == \"ZerotoHero\":\n",
    "    print(\"Hola bienvenido a la clase\")\n",
    "  else:\n",
    "    print(\"Contraseña incorrecta o usuario incorrecto\")\n"
   ]
  },
  {
   "cell_type": "code",
   "execution_count": null,
   "metadata": {
    "colab": {
     "base_uri": "https://localhost:8080/"
    },
    "id": "F8gu8_OvprFA",
    "outputId": "68f1fc9a-f76d-41bb-f24c-9664819f2ab0"
   },
   "outputs": [
    {
     "name": "stdout",
     "output_type": "stream",
     "text": [
      "Contraseña incorrecta o usuario incorrecto\n"
     ]
    }
   ],
   "source": [
    "check_password(\"Juan\",\"1234\")"
   ]
  },
  {
   "cell_type": "code",
   "execution_count": null,
   "metadata": {
    "id": "s-qrBluIsQf0"
   },
   "outputs": [],
   "source": [
    "base_datos = {'juan': 'contraseña1', 'maria': 'contraseña2', 'pedro': 'contraseña3', 'laura': 'contraseña4', 'carlos': 'contraseña5'}\n"
   ]
  },
  {
   "cell_type": "code",
   "execution_count": null,
   "metadata": {
    "id": "RNLzMCGXprLA"
   },
   "outputs": [],
   "source": [
    "def verificar_usuario(usuario, contraseña, base_datos):\n",
    "    if usuario not in base_datos:\n",
    "        return False\n",
    "    if base_datos[usuario] == contraseña:\n",
    "        return True\n",
    "    else:\n",
    "        return False\n"
   ]
  },
  {
   "cell_type": "code",
   "execution_count": null,
   "metadata": {
    "colab": {
     "base_uri": "https://localhost:8080/"
    },
    "id": "0YnmDCUesbyF",
    "outputId": "ea50233f-1a8b-45e2-af13-c0e48ed3fc5c"
   },
   "outputs": [
    {
     "data": {
      "text/plain": [
       "True"
      ]
     },
     "execution_count": 8,
     "metadata": {},
     "output_type": "execute_result"
    }
   ],
   "source": [
    "verificar_usuario(\"juan\",\"contraseña1\",base_datos)"
   ]
  },
  {
   "cell_type": "markdown",
   "metadata": {
    "id": "dEjzmwqq628t"
   },
   "source": [
    "#Creación de API de inventario"
   ]
  },
  {
   "cell_type": "code",
   "execution_count": null,
   "metadata": {
    "id": "XsLc7oCavGpl"
   },
   "outputs": [],
   "source": [
    "base_datos = {'manzanas': {'precio': 1.5, 'cantidad': 10},\n",
    "              'naranjas': {'precio': 2.0, 'cantidad': 8},\n",
    "              'platanos': {'precio': 1.0, 'cantidad': 12},\n",
    "              'peras': {'precio': 2.5, 'cantidad': 5},\n",
    "              'uvas': {'precio': 3.0, 'cantidad': 15}}\n"
   ]
  },
  {
   "cell_type": "code",
   "execution_count": null,
   "metadata": {
    "colab": {
     "base_uri": "https://localhost:8080/"
    },
    "id": "oKPtdEHSwOzg",
    "outputId": "eddd5121-eb87-4d28-b494-31c121ed3381"
   },
   "outputs": [
    {
     "data": {
      "text/plain": [
       "{'precio': 1.5, 'cantidad': 10}"
      ]
     },
     "execution_count": 10,
     "metadata": {},
     "output_type": "execute_result"
    }
   ],
   "source": [
    "base_datos[\"manzanas\"]"
   ]
  },
  {
   "cell_type": "code",
   "execution_count": null,
   "metadata": {
    "colab": {
     "base_uri": "https://localhost:8080/"
    },
    "id": "ITc4oPoHyH5j",
    "outputId": "9d6bd8e9-6c32-41fe-c939-6f1a1af9b39b"
   },
   "outputs": [
    {
     "data": {
      "text/plain": [
       "dict_keys(['manzanas', 'naranjas', 'platanos', 'peras', 'uvas'])"
      ]
     },
     "execution_count": 11,
     "metadata": {},
     "output_type": "execute_result"
    }
   ],
   "source": [
    "base_datos.keys()"
   ]
  },
  {
   "cell_type": "code",
   "execution_count": null,
   "metadata": {
    "id": "PR9dJ-SFvoIO"
   },
   "outputs": [],
   "source": [
    "def realizar_venta(base_datos):\n",
    "    total = 0\n",
    "    while True:\n",
    "        producto = input('Ingresa el nombre del producto vendido (o \"terminar\" para finalizar la venta): ')\n",
    "        if producto == 'terminar':\n",
    "            break\n",
    "        if producto not in base_datos.keys():\n",
    "            print('El producto no se encuentra en la base de datos.')\n",
    "            continue\n",
    "        cantidad = int(input('Ingresa la cantidad vendida: '))\n",
    "        base_datos[producto][\"cantidad\"] -= cantidad\n",
    "        precio_unitario = base_datos[producto][\"precio\"]\n",
    "        total_producto = int(cantidad) * precio_unitario\n",
    "        print(\"Holaaaaaa\")\n",
    "        total += total_producto\n",
    "        print(f'Se vendieron {cantidad} unidades de {producto} por un total de {total_producto} pesos.')\n",
    "    return total\n"
   ]
  },
  {
   "cell_type": "code",
   "execution_count": null,
   "metadata": {
    "colab": {
     "base_uri": "https://localhost:8080/"
    },
    "id": "C97zU1EizniY",
    "outputId": "ce36da91-bbbb-4497-8a65-dd7f7ee99268"
   },
   "outputs": [
    {
     "name": "stdout",
     "output_type": "stream",
     "text": [
      "Ingrese el precio del producto: 10\n",
      "El producto Guayabas se ha agregado correctamente a la base de datos.\n",
      "{'manzanas': {'precio': 1.5, 'cantidad': 10}, 'naranjas': {'precio': 2.0, 'cantidad': 8}, 'platanos': {'precio': 1.0, 'cantidad': 12}, 'peras': {'precio': 2.5, 'cantidad': 5}, 'uvas': {'precio': 3.0, 'cantidad': 15}, 'Guayabas': {'precio': 10.0, 'cantidad': 10}}\n"
     ]
    }
   ],
   "source": [
    "def agregar_producto(producto, cantidad):\n",
    "    if producto in base_datos:\n",
    "        base_datos[producto]['cantidad'] += cantidad\n",
    "    else:\n",
    "        precio = float(input(\"Ingrese el precio del producto: \"))\n",
    "        base_datos[producto] = {'precio': precio, 'cantidad': cantidad}\n",
    "\n",
    "    print(\"El producto {} se ha agregado correctamente a la base de datos.\".format(producto))\n",
    "\n",
    "# Ejemplo de uso de la función\n",
    "agregar_producto('Guayabas', 10)\n",
    "print(base_datos)"
   ]
  },
  {
   "cell_type": "code",
   "execution_count": null,
   "metadata": {
    "colab": {
     "base_uri": "https://localhost:8080/"
    },
    "id": "axwegg37vnu5",
    "outputId": "fbabcb93-d93d-437d-8811-2a653a521b72"
   },
   "outputs": [
    {
     "name": "stdout",
     "output_type": "stream",
     "text": [
      "El producto peras ha sido eliminado correctamente de la base de datos.\n",
      "{'manzanas': {'precio': 1.5, 'cantidad': 10}, 'naranjas': {'precio': 2.0, 'cantidad': 8}, 'platanos': {'precio': 1.0, 'cantidad': 12}, 'uvas': {'precio': 3.0, 'cantidad': 15}, 'Guayabas': {'precio': 10.0, 'cantidad': 10}}\n"
     ]
    }
   ],
   "source": [
    "def eliminar_producto(producto):\n",
    "    if producto in base_datos:\n",
    "        del base_datos[producto]\n",
    "        print(\"El producto {} ha sido eliminado correctamente de la base de datos.\".format(producto))\n",
    "    else:\n",
    "        print(\"El producto {} no existe en la base de datos.\".format(producto))\n",
    "\n",
    "# Ejemplo de uso de la función\n",
    "eliminar_producto('peras')\n",
    "print(base_datos)"
   ]
  },
  {
   "cell_type": "code",
   "execution_count": null,
   "metadata": {
    "colab": {
     "base_uri": "https://localhost:8080/"
    },
    "id": "pcjJ-24G16iR",
    "outputId": "56d9e28e-b4b7-47aa-9eae-ccaa190082ae"
   },
   "outputs": [
    {
     "data": {
      "text/plain": [
       "{'manzanas': {'precio': 1.5, 'cantidad': 10},\n",
       " 'naranjas': {'precio': 2.0, 'cantidad': 8},\n",
       " 'platanos': {'precio': 1.0, 'cantidad': 12},\n",
       " 'uvas': {'precio': 3.0, 'cantidad': 15},\n",
       " 'Guayabas': {'precio': 10.0, 'cantidad': 10}}"
      ]
     },
     "execution_count": 15,
     "metadata": {},
     "output_type": "execute_result"
    }
   ],
   "source": [
    "base_datos"
   ]
  },
  {
   "cell_type": "code",
   "execution_count": null,
   "metadata": {
    "colab": {
     "base_uri": "https://localhost:8080/"
    },
    "id": "-0mCeWcDvS-u",
    "outputId": "08a144d6-b720-4b7f-ae73-faf58f7387d0"
   },
   "outputs": [
    {
     "name": "stdout",
     "output_type": "stream",
     "text": [
      "Se ha aumentado el precio en un 8% para todos los productos.\n",
      "{'manzanas': {'precio': 1.62, 'cantidad': 10}, 'naranjas': {'precio': 2.16, 'cantidad': 8}, 'platanos': {'precio': 1.08, 'cantidad': 12}, 'uvas': {'precio': 3.24, 'cantidad': 15}, 'Guayabas': {'precio': 10.8, 'cantidad': 10}}\n"
     ]
    }
   ],
   "source": [
    "def aumentar_precio():\n",
    "    for producto in base_datos:\n",
    "        base_datos[producto]['precio'] *= 1.08\n",
    "\n",
    "    print(\"Se ha aumentado el precio en un 8% para todos los productos.\")\n",
    "\n",
    "# Ejemplo de uso de la función\n",
    "aumentar_precio()\n",
    "print(base_datos)"
   ]
  },
  {
   "cell_type": "code",
   "execution_count": null,
   "metadata": {
    "id": "bkLuNcq0y5y-"
   },
   "outputs": [],
   "source": [
    "def menu(base_datos):\n",
    "\n",
    "    while True:\n",
    "      print(\"Selecciona una opción:\")\n",
    "      print(\"1 - Agregar producto\")\n",
    "      print(\"2 - Eliminar producto\")\n",
    "      print(\"3 - Aumentar precio\")\n",
    "      print(\"4 - Realizar venta\")\n",
    "      print(\"5 - Salir\")\n",
    "\n",
    "      opcion = input(\"Opción seleccionada: \")\n",
    "\n",
    "      if opcion == '1':\n",
    "          producto = input(\"Producto a agregar: \")\n",
    "          cantidad = int(input(\"Cantidad: \"))\n",
    "          agregar_producto(producto,cantidad)\n",
    "      elif opcion == '2':\n",
    "          producto = input(\"Producto a eliminar: \")\n",
    "          eliminar_producto(producto)\n",
    "      elif opcion == '3':\n",
    "          aumentar_precio()\n",
    "      elif opcion == '4':\n",
    "         # producto = input(\"Producto a vender: \")\n",
    "          #cantidad = int(input(\"Cantidad a vender: \"))\n",
    "          realizar_venta(base_datos)\n",
    "      elif opcion == '5':\n",
    "          break\n",
    "      else:\n",
    "          print(\"Opción inválida. Inténtalo de nuevo.\")\n",
    "\n",
    "\n",
    "\n",
    "\n",
    "\n",
    "\n"
   ]
  },
  {
   "cell_type": "code",
   "execution_count": null,
   "metadata": {
    "colab": {
     "base_uri": "https://localhost:8080/"
    },
    "id": "SuKbsXf33eS1",
    "outputId": "f8443b8f-43b1-428d-9885-a5633c4f22df"
   },
   "outputs": [
    {
     "data": {
      "text/plain": [
       "{'manzanas': {'precio': 1.62, 'cantidad': 10},\n",
       " 'naranjas': {'precio': 2.16, 'cantidad': 8},\n",
       " 'platanos': {'precio': 1.08, 'cantidad': 12},\n",
       " 'uvas': {'precio': 3.24, 'cantidad': 15},\n",
       " 'Guayabas': {'precio': 10.8, 'cantidad': 10}}"
      ]
     },
     "execution_count": 23,
     "metadata": {},
     "output_type": "execute_result"
    }
   ],
   "source": [
    "base_datos"
   ]
  },
  {
   "cell_type": "code",
   "execution_count": null,
   "metadata": {
    "colab": {
     "base_uri": "https://localhost:8080/"
    },
    "id": "81ENgN6y3jJJ",
    "outputId": "d4a30d4a-c077-4b06-cb9b-59856cf7674b"
   },
   "outputs": [
    {
     "name": "stdout",
     "output_type": "stream",
     "text": [
      "Selecciona una opción:\n",
      "1 - Agregar producto\n",
      "2 - Eliminar producto\n",
      "3 - Aumentar precio\n",
      "4 - Realizar venta\n",
      "5 - Salir\n",
      "Opción seleccionada: 4\n",
      "Ingresa el nombre del producto vendido (o \"terminar\" para finalizar la venta): manzanas\n",
      "Ingresa la cantidad vendida: 20\n",
      "Holaaaaaa\n",
      "Se vendieron 20 unidades de manzanas por un total de 30.0 pesos.\n",
      "Ingresa el nombre del producto vendido (o \"terminar\" para finalizar la venta): terminar\n",
      "Selecciona una opción:\n",
      "1 - Agregar producto\n",
      "2 - Eliminar producto\n",
      "3 - Aumentar precio\n",
      "4 - Realizar venta\n",
      "5 - Salir\n",
      "Opción seleccionada: 5\n"
     ]
    }
   ],
   "source": [
    "menu(base_datos)"
   ]
  },
  {
   "cell_type": "code",
   "execution_count": null,
   "metadata": {
    "colab": {
     "base_uri": "https://localhost:8080/"
    },
    "id": "FmyB3uHJ34R2",
    "outputId": "c023eddb-18bb-4d33-f03c-fb963f0fbe86"
   },
   "outputs": [
    {
     "data": {
      "text/plain": [
       "{'manzanas': {'precio': 1.62, 'cantidad': 10},\n",
       " 'naranjas': {'precio': 2.16, 'cantidad': 8},\n",
       " 'platanos': {'precio': 1.08, 'cantidad': 12},\n",
       " 'uvas': {'precio': 3.24, 'cantidad': 15},\n",
       " 'Guayabas': {'precio': 10.8, 'cantidad': 10}}"
      ]
     },
     "execution_count": 20,
     "metadata": {},
     "output_type": "execute_result"
    }
   ],
   "source": [
    "base_datos"
   ]
  },
  {
   "cell_type": "markdown",
   "metadata": {
    "id": "nTvacLNp99cl"
   },
   "source": [
    "##Programación orientada a objetos"
   ]
  },
  {
   "cell_type": "code",
   "execution_count": null,
   "metadata": {
    "id": "w3HqKxpf-CFU"
   },
   "outputs": [],
   "source": [
    "class Persona:\n",
    "  def __init__(self,nombre,edad,ingresos):\n",
    "    self.nombre = nombre\n",
    "    self.edad = edad\n",
    "    self.ingresos = ingresos\n",
    "\n",
    "  def presentarse(self):\n",
    "    print(f\"hola mi nombre es {self.nombre} y mi edad es {self.edad}\")\n",
    "\n"
   ]
  },
  {
   "cell_type": "code",
   "execution_count": null,
   "metadata": {
    "id": "WgLQmPa2-Vz0"
   },
   "outputs": [],
   "source": [
    "Benito = Persona(\"Benito\",24,10000)\n",
    "\n",
    "Juana = Persona(\"Juana\",35,20000000000)"
   ]
  },
  {
   "cell_type": "code",
   "execution_count": null,
   "metadata": {
    "colab": {
     "base_uri": "https://localhost:8080/",
     "height": 36
    },
    "id": "9QK4oCgl_zf4",
    "outputId": "5c72beac-2c35-4149-d35f-268c6b4b364b"
   },
   "outputs": [
    {
     "data": {
      "application/vnd.google.colaboratory.intrinsic+json": {
       "type": "string"
      },
      "text/plain": [
       "'Benito'"
      ]
     },
     "execution_count": 56,
     "metadata": {},
     "output_type": "execute_result"
    }
   ],
   "source": [
    "Benito.nombre"
   ]
  },
  {
   "cell_type": "code",
   "execution_count": null,
   "metadata": {
    "colab": {
     "base_uri": "https://localhost:8080/"
    },
    "id": "E37g8qUF-585",
    "outputId": "5349c59f-d897-4c6a-8f26-d7f032e7bfaa"
   },
   "outputs": [
    {
     "name": "stdout",
     "output_type": "stream",
     "text": [
      "hola mi nombre es Benito y mi edad es 24\n",
      "hola mi nombre es Juana y mi edad es 35\n"
     ]
    }
   ],
   "source": [
    "Benito.presentarse()\n",
    "\n",
    "Juana.presentarse()"
   ]
  },
  {
   "cell_type": "code",
   "execution_count": null,
   "metadata": {
    "id": "sAgkaFhO_8i5"
   },
   "outputs": [],
   "source": [
    "class Perro:\n",
    "  def __init__(self,nombre):\n",
    "    self.nombre = nombre\n",
    "\n",
    "  def ladrar(self,numerito):\n",
    "    for i in range(numerito):\n",
    "      print(\"Guau!!\")\n",
    "\n"
   ]
  },
  {
   "cell_type": "code",
   "execution_count": null,
   "metadata": {
    "colab": {
     "base_uri": "https://localhost:8080/"
    },
    "id": "x-JYPp2qAQ23",
    "outputId": "6576e840-024d-4534-d55c-2589abb30e61"
   },
   "outputs": [
    {
     "name": "stdout",
     "output_type": "stream",
     "text": [
      "Lobito\n"
     ]
    }
   ],
   "source": [
    "P1 = Perro(\"Lobito\")\n",
    "\n",
    "print(P1.nombre)"
   ]
  },
  {
   "cell_type": "code",
   "execution_count": null,
   "metadata": {
    "colab": {
     "base_uri": "https://localhost:8080/"
    },
    "id": "Wgobb2zgAcBr",
    "outputId": "17b57198-3ea8-4643-f0c7-075ad712e258"
   },
   "outputs": [
    {
     "name": "stdout",
     "output_type": "stream",
     "text": [
      "Guau!!\n",
      "Guau!!\n",
      "Guau!!\n",
      "Guau!!\n",
      "Guau!!\n",
      "Guau!!\n",
      "Guau!!\n",
      "Guau!!\n",
      "Guau!!\n",
      "Guau!!\n"
     ]
    }
   ],
   "source": [
    "P1.ladrar(10)"
   ]
  },
  {
   "cell_type": "code",
   "execution_count": null,
   "metadata": {
    "colab": {
     "base_uri": "https://localhost:8080/"
    },
    "id": "co5AlFlMA-aX",
    "outputId": "519fced3-1e48-4ce6-9db8-6ba99c93451b"
   },
   "outputs": [
    {
     "name": "stdout",
     "output_type": "stream",
     "text": [
      "120.0\n"
     ]
    }
   ],
   "source": [
    "papel = Producto(\"vogue\",100,50)\n",
    "\n",
    "papel.aumentar_precio(20)\n",
    "\n",
    "print(papel.precio)"
   ]
  },
  {
   "cell_type": "code",
   "execution_count": null,
   "metadata": {
    "colab": {
     "base_uri": "https://localhost:8080/"
    },
    "id": "LHhzjmGHApeN",
    "outputId": "e02b3ca2-9749-4526-e0de-2f44c2b470c9"
   },
   "outputs": [
    {
     "name": "stdout",
     "output_type": "stream",
     "text": [
      "3.0\n",
      "manzanas 1.5 8\n",
      "naranjas 2.0 10\n",
      "platanos 1.08 12\n",
      "peras 2.5 5\n",
      "kiwis 2.0 20\n"
     ]
    }
   ],
   "source": [
    "class Producto:\n",
    "    def __init__(self, nombre, precio, cantidad):\n",
    "        self.nombre = nombre\n",
    "        self.precio = precio\n",
    "        self.cantidad = cantidad\n",
    "\n",
    "    def aumentar_precio(self, porcentaje):\n",
    "        self.precio *= (1 + porcentaje / 100)\n",
    "\n",
    "class Inventario:\n",
    "    def __init__(self, base_datos):\n",
    "        self.productos = {nombre: Producto(nombre, info['precio'], info['cantidad']) for nombre, info in base_datos.items()}\n",
    "\n",
    "    def agregar_producto(self, nombre, precio, cantidad):\n",
    "        self.productos[nombre] = Producto(nombre, precio, cantidad)\n",
    "\n",
    "    def eliminar_producto(self, nombre):\n",
    "        if nombre in self.productos:\n",
    "            del self.productos[nombre]\n",
    "\n",
    "    def modificar_cantidad(self, nombre, nueva_cantidad):\n",
    "        if nombre in self.productos:\n",
    "            self.productos[nombre].cantidad = nueva_cantidad\n",
    "\n",
    "    def vender(self, nombre, cantidad_vendida):\n",
    "        if nombre in self.productos and self.productos[nombre].cantidad >= cantidad_vendida:\n",
    "            self.productos[nombre].cantidad -= cantidad_vendida\n",
    "            total_venta = cantidad_vendida * self.productos[nombre].precio\n",
    "            print(total_venta)\n",
    "        else:\n",
    "          print(\"El producto no esta disponible\")\n",
    "        return -1\n",
    "\n",
    "    def aumentar_precio(self, nombre, porcentaje):\n",
    "        if nombre in self.productos:\n",
    "            self.productos[nombre].aumentar_precio(porcentaje)\n",
    "\n",
    "base_datos = {'manzanas': {'precio': 1.5, 'cantidad': 10},\n",
    "              'naranjas': {'precio': 2.0, 'cantidad': 8},\n",
    "              'platanos': {'precio': 1.0, 'cantidad': 12},\n",
    "              'peras': {'precio': 2.5, 'cantidad': 5},\n",
    "              'uvas': {'precio': 3.0, 'cantidad': 15}}\n",
    "\n",
    "inventario = Inventario(base_datos)\n",
    "\n",
    "# Ejemplo de uso\n",
    "inventario.vender('manzanas', 2)\n",
    "inventario.modificar_cantidad('naranjas', 10)\n",
    "inventario.aumentar_precio('platanos', 8)\n",
    "inventario.agregar_producto('kiwis', 2.0, 20)\n",
    "inventario.eliminar_producto('uvas')\n",
    "\n",
    "for producto in inventario.productos.values():\n",
    "    print(producto.nombre, producto.precio, producto.cantidad)\n"
   ]
  },
  {
   "cell_type": "code",
   "execution_count": null,
   "metadata": {
    "colab": {
     "base_uri": "https://localhost:8080/",
     "height": 761
    },
    "id": "wAiC5DxmCa4K",
    "outputId": "7a80dd72-0466-456a-8cd6-92f493ddc49f"
   },
   "outputs": [
    {
     "name": "stdout",
     "output_type": "stream",
     "text": [
      "\n",
      "Opciones disponibles:\n",
      "1. Realizar venta\n",
      "2. Modificar cantidad\n",
      "3. Aumentar precio\n",
      "4. Agregar producto\n",
      "5. Eliminar producto\n",
      "6. Mostrar inventario\n",
      "7. Salir\n",
      "\n",
      "Por favor, elige una opción: 1\n",
      "Introduce el nombre del producto: nido\n",
      "Introduce la cantidad vendida: 3\n",
      "El producto no esta disponible\n",
      "Venta realizada con éxito.\n",
      "\n",
      "Opciones disponibles:\n",
      "1. Realizar venta\n",
      "2. Modificar cantidad\n",
      "3. Aumentar precio\n",
      "4. Agregar producto\n",
      "5. Eliminar producto\n",
      "6. Mostrar inventario\n",
      "7. Salir\n"
     ]
    },
    {
     "ename": "KeyboardInterrupt",
     "evalue": "ignored",
     "output_type": "error",
     "traceback": [
      "\u001b[0;31m---------------------------------------------------------------------------\u001b[0m",
      "\u001b[0;31mKeyboardInterrupt\u001b[0m                         Traceback (most recent call last)",
      "\u001b[0;32m<ipython-input-77-82b77aeefcd5>\u001b[0m in \u001b[0;36m<cell line: 50>\u001b[0;34m()\u001b[0m\n\u001b[1;32m     48\u001b[0m \u001b[0;34m\u001b[0m\u001b[0m\n\u001b[1;32m     49\u001b[0m \u001b[0;31m# Llamando a la función menu_usuario()\u001b[0m\u001b[0;34m\u001b[0m\u001b[0;34m\u001b[0m\u001b[0m\n\u001b[0;32m---> 50\u001b[0;31m \u001b[0mmenu_usuario\u001b[0m\u001b[0;34m(\u001b[0m\u001b[0minventario\u001b[0m\u001b[0;34m)\u001b[0m\u001b[0;34m\u001b[0m\u001b[0;34m\u001b[0m\u001b[0m\n\u001b[0m",
      "\u001b[0;32m<ipython-input-77-82b77aeefcd5>\u001b[0m in \u001b[0;36mmenu_usuario\u001b[0;34m(inventario)\u001b[0m\n\u001b[1;32m     10\u001b[0m         \u001b[0mprint\u001b[0m\u001b[0;34m(\u001b[0m\u001b[0;34m\"7. Salir\"\u001b[0m\u001b[0;34m)\u001b[0m\u001b[0;34m\u001b[0m\u001b[0;34m\u001b[0m\u001b[0m\n\u001b[1;32m     11\u001b[0m \u001b[0;34m\u001b[0m\u001b[0m\n\u001b[0;32m---> 12\u001b[0;31m         \u001b[0mopcion\u001b[0m \u001b[0;34m=\u001b[0m \u001b[0minput\u001b[0m\u001b[0;34m(\u001b[0m\u001b[0;34m\"\\nPor favor, elige una opción: \"\u001b[0m\u001b[0;34m)\u001b[0m\u001b[0;34m\u001b[0m\u001b[0;34m\u001b[0m\u001b[0m\n\u001b[0m\u001b[1;32m     13\u001b[0m \u001b[0;34m\u001b[0m\u001b[0m\n\u001b[1;32m     14\u001b[0m         \u001b[0;32mif\u001b[0m \u001b[0mopcion\u001b[0m \u001b[0;34m==\u001b[0m \u001b[0;34m'1'\u001b[0m\u001b[0;34m:\u001b[0m\u001b[0;34m\u001b[0m\u001b[0;34m\u001b[0m\u001b[0m\n",
      "\u001b[0;32m/usr/local/lib/python3.10/dist-packages/ipykernel/kernelbase.py\u001b[0m in \u001b[0;36mraw_input\u001b[0;34m(self, prompt)\u001b[0m\n\u001b[1;32m    849\u001b[0m                 \u001b[0;34m\"raw_input was called, but this frontend does not support input requests.\"\u001b[0m\u001b[0;34m\u001b[0m\u001b[0;34m\u001b[0m\u001b[0m\n\u001b[1;32m    850\u001b[0m             )\n\u001b[0;32m--> 851\u001b[0;31m         return self._input_request(str(prompt),\n\u001b[0m\u001b[1;32m    852\u001b[0m             \u001b[0mself\u001b[0m\u001b[0;34m.\u001b[0m\u001b[0m_parent_ident\u001b[0m\u001b[0;34m,\u001b[0m\u001b[0;34m\u001b[0m\u001b[0;34m\u001b[0m\u001b[0m\n\u001b[1;32m    853\u001b[0m             \u001b[0mself\u001b[0m\u001b[0;34m.\u001b[0m\u001b[0m_parent_header\u001b[0m\u001b[0;34m,\u001b[0m\u001b[0;34m\u001b[0m\u001b[0;34m\u001b[0m\u001b[0m\n",
      "\u001b[0;32m/usr/local/lib/python3.10/dist-packages/ipykernel/kernelbase.py\u001b[0m in \u001b[0;36m_input_request\u001b[0;34m(self, prompt, ident, parent, password)\u001b[0m\n\u001b[1;32m    893\u001b[0m             \u001b[0;32mexcept\u001b[0m \u001b[0mKeyboardInterrupt\u001b[0m\u001b[0;34m:\u001b[0m\u001b[0;34m\u001b[0m\u001b[0;34m\u001b[0m\u001b[0m\n\u001b[1;32m    894\u001b[0m                 \u001b[0;31m# re-raise KeyboardInterrupt, to truncate traceback\u001b[0m\u001b[0;34m\u001b[0m\u001b[0;34m\u001b[0m\u001b[0m\n\u001b[0;32m--> 895\u001b[0;31m                 \u001b[0;32mraise\u001b[0m \u001b[0mKeyboardInterrupt\u001b[0m\u001b[0;34m(\u001b[0m\u001b[0;34m\"Interrupted by user\"\u001b[0m\u001b[0;34m)\u001b[0m \u001b[0;32mfrom\u001b[0m \u001b[0;32mNone\u001b[0m\u001b[0;34m\u001b[0m\u001b[0;34m\u001b[0m\u001b[0m\n\u001b[0m\u001b[1;32m    896\u001b[0m             \u001b[0;32mexcept\u001b[0m \u001b[0mException\u001b[0m \u001b[0;32mas\u001b[0m \u001b[0me\u001b[0m\u001b[0;34m:\u001b[0m\u001b[0;34m\u001b[0m\u001b[0;34m\u001b[0m\u001b[0m\n\u001b[1;32m    897\u001b[0m                 \u001b[0mself\u001b[0m\u001b[0;34m.\u001b[0m\u001b[0mlog\u001b[0m\u001b[0;34m.\u001b[0m\u001b[0mwarning\u001b[0m\u001b[0;34m(\u001b[0m\u001b[0;34m\"Invalid Message:\"\u001b[0m\u001b[0;34m,\u001b[0m \u001b[0mexc_info\u001b[0m\u001b[0;34m=\u001b[0m\u001b[0;32mTrue\u001b[0m\u001b[0;34m)\u001b[0m\u001b[0;34m\u001b[0m\u001b[0;34m\u001b[0m\u001b[0m\n",
      "\u001b[0;31mKeyboardInterrupt\u001b[0m: Interrupted by user"
     ]
    }
   ],
   "source": [
    "def menu_usuario(inventario):\n",
    "    while True:\n",
    "        print(\"\\nOpciones disponibles:\")\n",
    "        print(\"1. Realizar venta\")\n",
    "        print(\"2. Modificar cantidad\")\n",
    "        print(\"3. Aumentar precio\")\n",
    "        print(\"4. Agregar producto\")\n",
    "        print(\"5. Eliminar producto\")\n",
    "        print(\"6. Mostrar inventario\")\n",
    "        print(\"7. Salir\")\n",
    "\n",
    "        opcion = input(\"\\nPor favor, elige una opción: \")\n",
    "\n",
    "        if opcion == '1':\n",
    "            nombre = input(\"Introduce el nombre del producto: \")\n",
    "            cantidad = int(input(\"Introduce la cantidad vendida: \"))\n",
    "            if inventario.vender(nombre, cantidad):\n",
    "                print(\"Venta realizada con éxito.\")\n",
    "            else:\n",
    "                print(\"Error: no se pudo realizar la venta.\")\n",
    "        elif opcion == '2':\n",
    "            nombre = input(\"Introduce el nombre del producto: \")\n",
    "            nueva_cantidad = int(input(\"Introduce la nueva cantidad: \"))\n",
    "            inventario.modificar_cantidad(nombre, nueva_cantidad)\n",
    "        elif opcion == '3':\n",
    "            nombre = input(\"Introduce el nombre del producto: \")\n",
    "            porcentaje = float(input(\"Introduce el porcentaje de aumento: \"))\n",
    "            inventario.aumentar_precio(nombre, porcentaje)\n",
    "        elif opcion == '4':\n",
    "            nombre = input(\"Introduce el nombre del nuevo producto: \")\n",
    "            precio = float(input(\"Introduce el precio del producto: \"))\n",
    "            cantidad = int(input(\"Introduce la cantidad del producto: \"))\n",
    "            inventario.agregar_producto(nombre, precio, cantidad)\n",
    "        elif opcion == '5':\n",
    "            nombre = input(\"Introduce el nombre del producto a eliminar: \")\n",
    "            inventario.eliminar_producto(nombre)\n",
    "        elif opcion == '6':\n",
    "            print(\"\\nInventario:\")\n",
    "            for producto in inventario.productos.values():\n",
    "                print(f\"{producto.nombre} - Precio: {producto.precio:.2f}, Cantidad: {producto.cantidad}\")\n",
    "        elif opcion == '7':\n",
    "            break\n",
    "        else:\n",
    "            print(\"Opción inválida. Por favor, intenta de nuevo.\")\n",
    "\n",
    "# Creando el inventario con la base de datos\n",
    "inventario = Inventario(base_datos)\n",
    "\n",
    "# Llamando a la función menu_usuario()\n",
    "menu_usuario(inventario)\n"
   ]
  },
  {
   "cell_type": "markdown",
   "metadata": {
    "id": "tfu-YCeSN9q5"
   },
   "source": [
    "##Introduccion a la ciencia de datos\n"
   ]
  },
  {
   "cell_type": "code",
   "execution_count": null,
   "metadata": {
    "colab": {
     "base_uri": "https://localhost:8080/",
     "height": 206
    },
    "id": "mwBPro_lN_64",
    "outputId": "61727025-484f-4d15-e8ad-0ec786e59a20"
   },
   "outputs": [
    {
     "data": {
      "text/html": [
       "\n",
       "  <div id=\"df-c1c8cec5-aa13-4574-b125-4ef6a491af2d\">\n",
       "    <div class=\"colab-df-container\">\n",
       "      <div>\n",
       "<style scoped>\n",
       "    .dataframe tbody tr th:only-of-type {\n",
       "        vertical-align: middle;\n",
       "    }\n",
       "\n",
       "    .dataframe tbody tr th {\n",
       "        vertical-align: top;\n",
       "    }\n",
       "\n",
       "    .dataframe thead th {\n",
       "        text-align: right;\n",
       "    }\n",
       "</style>\n",
       "<table border=\"1\" class=\"dataframe\">\n",
       "  <thead>\n",
       "    <tr style=\"text-align: right;\">\n",
       "      <th></th>\n",
       "      <th>0</th>\n",
       "      <th>1</th>\n",
       "      <th>2</th>\n",
       "      <th>3</th>\n",
       "      <th>4</th>\n",
       "    </tr>\n",
       "  </thead>\n",
       "  <tbody>\n",
       "    <tr>\n",
       "      <th>0</th>\n",
       "      <td>5.1</td>\n",
       "      <td>3.5</td>\n",
       "      <td>1.4</td>\n",
       "      <td>0.2</td>\n",
       "      <td>Iris-setosa</td>\n",
       "    </tr>\n",
       "    <tr>\n",
       "      <th>1</th>\n",
       "      <td>4.9</td>\n",
       "      <td>3.0</td>\n",
       "      <td>1.4</td>\n",
       "      <td>0.2</td>\n",
       "      <td>Iris-setosa</td>\n",
       "    </tr>\n",
       "    <tr>\n",
       "      <th>2</th>\n",
       "      <td>4.7</td>\n",
       "      <td>3.2</td>\n",
       "      <td>1.3</td>\n",
       "      <td>0.2</td>\n",
       "      <td>Iris-setosa</td>\n",
       "    </tr>\n",
       "    <tr>\n",
       "      <th>3</th>\n",
       "      <td>4.6</td>\n",
       "      <td>3.1</td>\n",
       "      <td>1.5</td>\n",
       "      <td>0.2</td>\n",
       "      <td>Iris-setosa</td>\n",
       "    </tr>\n",
       "    <tr>\n",
       "      <th>4</th>\n",
       "      <td>5.0</td>\n",
       "      <td>3.6</td>\n",
       "      <td>1.4</td>\n",
       "      <td>0.2</td>\n",
       "      <td>Iris-setosa</td>\n",
       "    </tr>\n",
       "  </tbody>\n",
       "</table>\n",
       "</div>\n",
       "      <button class=\"colab-df-convert\" onclick=\"convertToInteractive('df-c1c8cec5-aa13-4574-b125-4ef6a491af2d')\"\n",
       "              title=\"Convert this dataframe to an interactive table.\"\n",
       "              style=\"display:none;\">\n",
       "        \n",
       "  <svg xmlns=\"http://www.w3.org/2000/svg\" height=\"24px\"viewBox=\"0 0 24 24\"\n",
       "       width=\"24px\">\n",
       "    <path d=\"M0 0h24v24H0V0z\" fill=\"none\"/>\n",
       "    <path d=\"M18.56 5.44l.94 2.06.94-2.06 2.06-.94-2.06-.94-.94-2.06-.94 2.06-2.06.94zm-11 1L8.5 8.5l.94-2.06 2.06-.94-2.06-.94L8.5 2.5l-.94 2.06-2.06.94zm10 10l.94 2.06.94-2.06 2.06-.94-2.06-.94-.94-2.06-.94 2.06-2.06.94z\"/><path d=\"M17.41 7.96l-1.37-1.37c-.4-.4-.92-.59-1.43-.59-.52 0-1.04.2-1.43.59L10.3 9.45l-7.72 7.72c-.78.78-.78 2.05 0 2.83L4 21.41c.39.39.9.59 1.41.59.51 0 1.02-.2 1.41-.59l7.78-7.78 2.81-2.81c.8-.78.8-2.07 0-2.86zM5.41 20L4 18.59l7.72-7.72 1.47 1.35L5.41 20z\"/>\n",
       "  </svg>\n",
       "      </button>\n",
       "      \n",
       "  <style>\n",
       "    .colab-df-container {\n",
       "      display:flex;\n",
       "      flex-wrap:wrap;\n",
       "      gap: 12px;\n",
       "    }\n",
       "\n",
       "    .colab-df-convert {\n",
       "      background-color: #E8F0FE;\n",
       "      border: none;\n",
       "      border-radius: 50%;\n",
       "      cursor: pointer;\n",
       "      display: none;\n",
       "      fill: #1967D2;\n",
       "      height: 32px;\n",
       "      padding: 0 0 0 0;\n",
       "      width: 32px;\n",
       "    }\n",
       "\n",
       "    .colab-df-convert:hover {\n",
       "      background-color: #E2EBFA;\n",
       "      box-shadow: 0px 1px 2px rgba(60, 64, 67, 0.3), 0px 1px 3px 1px rgba(60, 64, 67, 0.15);\n",
       "      fill: #174EA6;\n",
       "    }\n",
       "\n",
       "    [theme=dark] .colab-df-convert {\n",
       "      background-color: #3B4455;\n",
       "      fill: #D2E3FC;\n",
       "    }\n",
       "\n",
       "    [theme=dark] .colab-df-convert:hover {\n",
       "      background-color: #434B5C;\n",
       "      box-shadow: 0px 1px 3px 1px rgba(0, 0, 0, 0.15);\n",
       "      filter: drop-shadow(0px 1px 2px rgba(0, 0, 0, 0.3));\n",
       "      fill: #FFFFFF;\n",
       "    }\n",
       "  </style>\n",
       "\n",
       "      <script>\n",
       "        const buttonEl =\n",
       "          document.querySelector('#df-c1c8cec5-aa13-4574-b125-4ef6a491af2d button.colab-df-convert');\n",
       "        buttonEl.style.display =\n",
       "          google.colab.kernel.accessAllowed ? 'block' : 'none';\n",
       "\n",
       "        async function convertToInteractive(key) {\n",
       "          const element = document.querySelector('#df-c1c8cec5-aa13-4574-b125-4ef6a491af2d');\n",
       "          const dataTable =\n",
       "            await google.colab.kernel.invokeFunction('convertToInteractive',\n",
       "                                                     [key], {});\n",
       "          if (!dataTable) return;\n",
       "\n",
       "          const docLinkHtml = 'Like what you see? Visit the ' +\n",
       "            '<a target=\"_blank\" href=https://colab.research.google.com/notebooks/data_table.ipynb>data table notebook</a>'\n",
       "            + ' to learn more about interactive tables.';\n",
       "          element.innerHTML = '';\n",
       "          dataTable['output_type'] = 'display_data';\n",
       "          await google.colab.output.renderOutput(dataTable, element);\n",
       "          const docLink = document.createElement('div');\n",
       "          docLink.innerHTML = docLinkHtml;\n",
       "          element.appendChild(docLink);\n",
       "        }\n",
       "      </script>\n",
       "    </div>\n",
       "  </div>\n",
       "  "
      ],
      "text/plain": [
       "     0    1    2    3            4\n",
       "0  5.1  3.5  1.4  0.2  Iris-setosa\n",
       "1  4.9  3.0  1.4  0.2  Iris-setosa\n",
       "2  4.7  3.2  1.3  0.2  Iris-setosa\n",
       "3  4.6  3.1  1.5  0.2  Iris-setosa\n",
       "4  5.0  3.6  1.4  0.2  Iris-setosa"
      ]
     },
     "execution_count": 80,
     "metadata": {},
     "output_type": "execute_result"
    }
   ],
   "source": [
    "import pandas as pd #manejo de datos\n",
    "\n",
    "df = pd.read_csv(\"/content/iris.csv\",header =None)\n",
    "df.head()"
   ]
  },
  {
   "cell_type": "code",
   "execution_count": null,
   "metadata": {
    "colab": {
     "base_uri": "https://localhost:8080/",
     "height": 206
    },
    "id": "Ac0-W8O2PPSv",
    "outputId": "f5bdc9dd-5930-49f5-c88f-50ac88eefcf4"
   },
   "outputs": [
    {
     "data": {
      "text/html": [
       "\n",
       "  <div id=\"df-1c523263-1630-4b33-b63d-8ff780933f4c\">\n",
       "    <div class=\"colab-df-container\">\n",
       "      <div>\n",
       "<style scoped>\n",
       "    .dataframe tbody tr th:only-of-type {\n",
       "        vertical-align: middle;\n",
       "    }\n",
       "\n",
       "    .dataframe tbody tr th {\n",
       "        vertical-align: top;\n",
       "    }\n",
       "\n",
       "    .dataframe thead th {\n",
       "        text-align: right;\n",
       "    }\n",
       "</style>\n",
       "<table border=\"1\" class=\"dataframe\">\n",
       "  <thead>\n",
       "    <tr style=\"text-align: right;\">\n",
       "      <th></th>\n",
       "      <th>sepal_length</th>\n",
       "      <th>sepal_width</th>\n",
       "      <th>petal_length</th>\n",
       "      <th>petal_width</th>\n",
       "      <th>class</th>\n",
       "    </tr>\n",
       "  </thead>\n",
       "  <tbody>\n",
       "    <tr>\n",
       "      <th>0</th>\n",
       "      <td>5.1</td>\n",
       "      <td>3.5</td>\n",
       "      <td>1.4</td>\n",
       "      <td>0.2</td>\n",
       "      <td>Iris-setosa</td>\n",
       "    </tr>\n",
       "    <tr>\n",
       "      <th>1</th>\n",
       "      <td>4.9</td>\n",
       "      <td>3.0</td>\n",
       "      <td>1.4</td>\n",
       "      <td>0.2</td>\n",
       "      <td>Iris-setosa</td>\n",
       "    </tr>\n",
       "    <tr>\n",
       "      <th>2</th>\n",
       "      <td>4.7</td>\n",
       "      <td>3.2</td>\n",
       "      <td>1.3</td>\n",
       "      <td>0.2</td>\n",
       "      <td>Iris-setosa</td>\n",
       "    </tr>\n",
       "    <tr>\n",
       "      <th>3</th>\n",
       "      <td>4.6</td>\n",
       "      <td>3.1</td>\n",
       "      <td>1.5</td>\n",
       "      <td>0.2</td>\n",
       "      <td>Iris-setosa</td>\n",
       "    </tr>\n",
       "    <tr>\n",
       "      <th>4</th>\n",
       "      <td>5.0</td>\n",
       "      <td>3.6</td>\n",
       "      <td>1.4</td>\n",
       "      <td>0.2</td>\n",
       "      <td>Iris-setosa</td>\n",
       "    </tr>\n",
       "  </tbody>\n",
       "</table>\n",
       "</div>\n",
       "      <button class=\"colab-df-convert\" onclick=\"convertToInteractive('df-1c523263-1630-4b33-b63d-8ff780933f4c')\"\n",
       "              title=\"Convert this dataframe to an interactive table.\"\n",
       "              style=\"display:none;\">\n",
       "        \n",
       "  <svg xmlns=\"http://www.w3.org/2000/svg\" height=\"24px\"viewBox=\"0 0 24 24\"\n",
       "       width=\"24px\">\n",
       "    <path d=\"M0 0h24v24H0V0z\" fill=\"none\"/>\n",
       "    <path d=\"M18.56 5.44l.94 2.06.94-2.06 2.06-.94-2.06-.94-.94-2.06-.94 2.06-2.06.94zm-11 1L8.5 8.5l.94-2.06 2.06-.94-2.06-.94L8.5 2.5l-.94 2.06-2.06.94zm10 10l.94 2.06.94-2.06 2.06-.94-2.06-.94-.94-2.06-.94 2.06-2.06.94z\"/><path d=\"M17.41 7.96l-1.37-1.37c-.4-.4-.92-.59-1.43-.59-.52 0-1.04.2-1.43.59L10.3 9.45l-7.72 7.72c-.78.78-.78 2.05 0 2.83L4 21.41c.39.39.9.59 1.41.59.51 0 1.02-.2 1.41-.59l7.78-7.78 2.81-2.81c.8-.78.8-2.07 0-2.86zM5.41 20L4 18.59l7.72-7.72 1.47 1.35L5.41 20z\"/>\n",
       "  </svg>\n",
       "      </button>\n",
       "      \n",
       "  <style>\n",
       "    .colab-df-container {\n",
       "      display:flex;\n",
       "      flex-wrap:wrap;\n",
       "      gap: 12px;\n",
       "    }\n",
       "\n",
       "    .colab-df-convert {\n",
       "      background-color: #E8F0FE;\n",
       "      border: none;\n",
       "      border-radius: 50%;\n",
       "      cursor: pointer;\n",
       "      display: none;\n",
       "      fill: #1967D2;\n",
       "      height: 32px;\n",
       "      padding: 0 0 0 0;\n",
       "      width: 32px;\n",
       "    }\n",
       "\n",
       "    .colab-df-convert:hover {\n",
       "      background-color: #E2EBFA;\n",
       "      box-shadow: 0px 1px 2px rgba(60, 64, 67, 0.3), 0px 1px 3px 1px rgba(60, 64, 67, 0.15);\n",
       "      fill: #174EA6;\n",
       "    }\n",
       "\n",
       "    [theme=dark] .colab-df-convert {\n",
       "      background-color: #3B4455;\n",
       "      fill: #D2E3FC;\n",
       "    }\n",
       "\n",
       "    [theme=dark] .colab-df-convert:hover {\n",
       "      background-color: #434B5C;\n",
       "      box-shadow: 0px 1px 3px 1px rgba(0, 0, 0, 0.15);\n",
       "      filter: drop-shadow(0px 1px 2px rgba(0, 0, 0, 0.3));\n",
       "      fill: #FFFFFF;\n",
       "    }\n",
       "  </style>\n",
       "\n",
       "      <script>\n",
       "        const buttonEl =\n",
       "          document.querySelector('#df-1c523263-1630-4b33-b63d-8ff780933f4c button.colab-df-convert');\n",
       "        buttonEl.style.display =\n",
       "          google.colab.kernel.accessAllowed ? 'block' : 'none';\n",
       "\n",
       "        async function convertToInteractive(key) {\n",
       "          const element = document.querySelector('#df-1c523263-1630-4b33-b63d-8ff780933f4c');\n",
       "          const dataTable =\n",
       "            await google.colab.kernel.invokeFunction('convertToInteractive',\n",
       "                                                     [key], {});\n",
       "          if (!dataTable) return;\n",
       "\n",
       "          const docLinkHtml = 'Like what you see? Visit the ' +\n",
       "            '<a target=\"_blank\" href=https://colab.research.google.com/notebooks/data_table.ipynb>data table notebook</a>'\n",
       "            + ' to learn more about interactive tables.';\n",
       "          element.innerHTML = '';\n",
       "          dataTable['output_type'] = 'display_data';\n",
       "          await google.colab.output.renderOutput(dataTable, element);\n",
       "          const docLink = document.createElement('div');\n",
       "          docLink.innerHTML = docLinkHtml;\n",
       "          element.appendChild(docLink);\n",
       "        }\n",
       "      </script>\n",
       "    </div>\n",
       "  </div>\n",
       "  "
      ],
      "text/plain": [
       "   sepal_length  sepal_width  petal_length  petal_width        class\n",
       "0           5.1          3.5           1.4          0.2  Iris-setosa\n",
       "1           4.9          3.0           1.4          0.2  Iris-setosa\n",
       "2           4.7          3.2           1.3          0.2  Iris-setosa\n",
       "3           4.6          3.1           1.5          0.2  Iris-setosa\n",
       "4           5.0          3.6           1.4          0.2  Iris-setosa"
      ]
     },
     "execution_count": 82,
     "metadata": {},
     "output_type": "execute_result"
    }
   ],
   "source": [
    "dataset.head()"
   ]
  },
  {
   "cell_type": "code",
   "execution_count": null,
   "metadata": {
    "colab": {
     "base_uri": "https://localhost:8080/"
    },
    "id": "lfYR6zEkPVVS",
    "outputId": "a2c00d56-5c16-4b3d-e44f-1cf38cb239f6"
   },
   "outputs": [
    {
     "data": {
      "text/plain": [
       "array([[5.1, 3.5, 1.4, 0.2],\n",
       "       [4.9, 3. , 1.4, 0.2],\n",
       "       [4.7, 3.2, 1.3, 0.2],\n",
       "       [4.6, 3.1, 1.5, 0.2],\n",
       "       [5. , 3.6, 1.4, 0.2],\n",
       "       [5.4, 3.9, 1.7, 0.4],\n",
       "       [4.6, 3.4, 1.4, 0.3],\n",
       "       [5. , 3.4, 1.5, 0.2],\n",
       "       [4.4, 2.9, 1.4, 0.2],\n",
       "       [4.9, 3.1, 1.5, 0.1],\n",
       "       [5.4, 3.7, 1.5, 0.2],\n",
       "       [4.8, 3.4, 1.6, 0.2],\n",
       "       [4.8, 3. , 1.4, 0.1],\n",
       "       [4.3, 3. , 1.1, 0.1],\n",
       "       [5.8, 4. , 1.2, 0.2],\n",
       "       [5.7, 4.4, 1.5, 0.4],\n",
       "       [5.4, 3.9, 1.3, 0.4],\n",
       "       [5.1, 3.5, 1.4, 0.3],\n",
       "       [5.7, 3.8, 1.7, 0.3],\n",
       "       [5.1, 3.8, 1.5, 0.3],\n",
       "       [5.4, 3.4, 1.7, 0.2],\n",
       "       [5.1, 3.7, 1.5, 0.4],\n",
       "       [4.6, 3.6, 1. , 0.2],\n",
       "       [5.1, 3.3, 1.7, 0.5],\n",
       "       [4.8, 3.4, 1.9, 0.2],\n",
       "       [5. , 3. , 1.6, 0.2],\n",
       "       [5. , 3.4, 1.6, 0.4],\n",
       "       [5.2, 3.5, 1.5, 0.2],\n",
       "       [5.2, 3.4, 1.4, 0.2],\n",
       "       [4.7, 3.2, 1.6, 0.2],\n",
       "       [4.8, 3.1, 1.6, 0.2],\n",
       "       [5.4, 3.4, 1.5, 0.4],\n",
       "       [5.2, 4.1, 1.5, 0.1],\n",
       "       [5.5, 4.2, 1.4, 0.2],\n",
       "       [4.9, 3.1, 1.5, 0.1],\n",
       "       [5. , 3.2, 1.2, 0.2],\n",
       "       [5.5, 3.5, 1.3, 0.2],\n",
       "       [4.9, 3.1, 1.5, 0.1],\n",
       "       [4.4, 3. , 1.3, 0.2],\n",
       "       [5.1, 3.4, 1.5, 0.2],\n",
       "       [5. , 3.5, 1.3, 0.3],\n",
       "       [4.5, 2.3, 1.3, 0.3],\n",
       "       [4.4, 3.2, 1.3, 0.2],\n",
       "       [5. , 3.5, 1.6, 0.6],\n",
       "       [5.1, 3.8, 1.9, 0.4],\n",
       "       [4.8, 3. , 1.4, 0.3],\n",
       "       [5.1, 3.8, 1.6, 0.2],\n",
       "       [4.6, 3.2, 1.4, 0.2],\n",
       "       [5.3, 3.7, 1.5, 0.2],\n",
       "       [5. , 3.3, 1.4, 0.2],\n",
       "       [7. , 3.2, 4.7, 1.4],\n",
       "       [6.4, 3.2, 4.5, 1.5],\n",
       "       [6.9, 3.1, 4.9, 1.5],\n",
       "       [5.5, 2.3, 4. , 1.3],\n",
       "       [6.5, 2.8, 4.6, 1.5],\n",
       "       [5.7, 2.8, 4.5, 1.3],\n",
       "       [6.3, 3.3, 4.7, 1.6],\n",
       "       [4.9, 2.4, 3.3, 1. ],\n",
       "       [6.6, 2.9, 4.6, 1.3],\n",
       "       [5.2, 2.7, 3.9, 1.4],\n",
       "       [5. , 2. , 3.5, 1. ],\n",
       "       [5.9, 3. , 4.2, 1.5],\n",
       "       [6. , 2.2, 4. , 1. ],\n",
       "       [6.1, 2.9, 4.7, 1.4],\n",
       "       [5.6, 2.9, 3.6, 1.3],\n",
       "       [6.7, 3.1, 4.4, 1.4],\n",
       "       [5.6, 3. , 4.5, 1.5],\n",
       "       [5.8, 2.7, 4.1, 1. ],\n",
       "       [6.2, 2.2, 4.5, 1.5],\n",
       "       [5.6, 2.5, 3.9, 1.1],\n",
       "       [5.9, 3.2, 4.8, 1.8],\n",
       "       [6.1, 2.8, 4. , 1.3],\n",
       "       [6.3, 2.5, 4.9, 1.5],\n",
       "       [6.1, 2.8, 4.7, 1.2],\n",
       "       [6.4, 2.9, 4.3, 1.3],\n",
       "       [6.6, 3. , 4.4, 1.4],\n",
       "       [6.8, 2.8, 4.8, 1.4],\n",
       "       [6.7, 3. , 5. , 1.7],\n",
       "       [6. , 2.9, 4.5, 1.5],\n",
       "       [5.7, 2.6, 3.5, 1. ],\n",
       "       [5.5, 2.4, 3.8, 1.1],\n",
       "       [5.5, 2.4, 3.7, 1. ],\n",
       "       [5.8, 2.7, 3.9, 1.2],\n",
       "       [6. , 2.7, 5.1, 1.6],\n",
       "       [5.4, 3. , 4.5, 1.5],\n",
       "       [6. , 3.4, 4.5, 1.6],\n",
       "       [6.7, 3.1, 4.7, 1.5],\n",
       "       [6.3, 2.3, 4.4, 1.3],\n",
       "       [5.6, 3. , 4.1, 1.3],\n",
       "       [5.5, 2.5, 4. , 1.3],\n",
       "       [5.5, 2.6, 4.4, 1.2],\n",
       "       [6.1, 3. , 4.6, 1.4],\n",
       "       [5.8, 2.6, 4. , 1.2],\n",
       "       [5. , 2.3, 3.3, 1. ],\n",
       "       [5.6, 2.7, 4.2, 1.3],\n",
       "       [5.7, 3. , 4.2, 1.2],\n",
       "       [5.7, 2.9, 4.2, 1.3],\n",
       "       [6.2, 2.9, 4.3, 1.3],\n",
       "       [5.1, 2.5, 3. , 1.1],\n",
       "       [5.7, 2.8, 4.1, 1.3],\n",
       "       [6.3, 3.3, 6. , 2.5],\n",
       "       [5.8, 2.7, 5.1, 1.9],\n",
       "       [7.1, 3. , 5.9, 2.1],\n",
       "       [6.3, 2.9, 5.6, 1.8],\n",
       "       [6.5, 3. , 5.8, 2.2],\n",
       "       [7.6, 3. , 6.6, 2.1],\n",
       "       [4.9, 2.5, 4.5, 1.7],\n",
       "       [7.3, 2.9, 6.3, 1.8],\n",
       "       [6.7, 2.5, 5.8, 1.8],\n",
       "       [7.2, 3.6, 6.1, 2.5],\n",
       "       [6.5, 3.2, 5.1, 2. ],\n",
       "       [6.4, 2.7, 5.3, 1.9],\n",
       "       [6.8, 3. , 5.5, 2.1],\n",
       "       [5.7, 2.5, 5. , 2. ],\n",
       "       [5.8, 2.8, 5.1, 2.4],\n",
       "       [6.4, 3.2, 5.3, 2.3],\n",
       "       [6.5, 3. , 5.5, 1.8],\n",
       "       [7.7, 3.8, 6.7, 2.2],\n",
       "       [7.7, 2.6, 6.9, 2.3],\n",
       "       [6. , 2.2, 5. , 1.5],\n",
       "       [6.9, 3.2, 5.7, 2.3],\n",
       "       [5.6, 2.8, 4.9, 2. ],\n",
       "       [7.7, 2.8, 6.7, 2. ],\n",
       "       [6.3, 2.7, 4.9, 1.8],\n",
       "       [6.7, 3.3, 5.7, 2.1],\n",
       "       [7.2, 3.2, 6. , 1.8],\n",
       "       [6.2, 2.8, 4.8, 1.8],\n",
       "       [6.1, 3. , 4.9, 1.8],\n",
       "       [6.4, 2.8, 5.6, 2.1],\n",
       "       [7.2, 3. , 5.8, 1.6],\n",
       "       [7.4, 2.8, 6.1, 1.9],\n",
       "       [7.9, 3.8, 6.4, 2. ],\n",
       "       [6.4, 2.8, 5.6, 2.2],\n",
       "       [6.3, 2.8, 5.1, 1.5],\n",
       "       [6.1, 2.6, 5.6, 1.4],\n",
       "       [7.7, 3. , 6.1, 2.3],\n",
       "       [6.3, 3.4, 5.6, 2.4],\n",
       "       [6.4, 3.1, 5.5, 1.8],\n",
       "       [6. , 3. , 4.8, 1.8],\n",
       "       [6.9, 3.1, 5.4, 2.1],\n",
       "       [6.7, 3.1, 5.6, 2.4],\n",
       "       [6.9, 3.1, 5.1, 2.3],\n",
       "       [5.8, 2.7, 5.1, 1.9],\n",
       "       [6.8, 3.2, 5.9, 2.3],\n",
       "       [6.7, 3.3, 5.7, 2.5],\n",
       "       [6.7, 3. , 5.2, 2.3],\n",
       "       [6.3, 2.5, 5. , 1.9],\n",
       "       [6.5, 3. , 5.2, 2. ],\n",
       "       [6.2, 3.4, 5.4, 2.3],\n",
       "       [5.9, 3. , 5.1, 1.8]])"
      ]
     },
     "execution_count": 85,
     "metadata": {},
     "output_type": "execute_result"
    }
   ],
   "source": [
    "X"
   ]
  },
  {
   "cell_type": "code",
   "execution_count": null,
   "metadata": {
    "colab": {
     "base_uri": "https://localhost:8080/"
    },
    "id": "3a1beNyIPrNj",
    "outputId": "f2a6c6fd-1ed7-4780-d7c9-b2ca07e2ae7f"
   },
   "outputs": [
    {
     "data": {
      "text/plain": [
       "array([1, 0, 2, 1, 1, 0, 1, 2, 1, 1, 2, 0, 0, 0, 0, 1, 2, 1, 1, 2, 0, 2,\n",
       "       0, 2, 2, 2, 2, 2, 0, 0])"
      ]
     },
     "execution_count": 92,
     "metadata": {},
     "output_type": "execute_result"
    }
   ],
   "source": [
    "y_pred"
   ]
  },
  {
   "cell_type": "code",
   "execution_count": null,
   "metadata": {
    "colab": {
     "base_uri": "https://localhost:8080/"
    },
    "id": "B6s7vXPNQBzQ",
    "outputId": "d996fc45-24ed-4ffc-f202-aa002fd6f5d5"
   },
   "outputs": [
    {
     "data": {
      "text/plain": [
       "array([1, 0, 2, 1, 1, 0, 1, 2, 1, 1, 2, 0, 0, 0, 0, 1, 2, 1, 1, 2, 0, 2,\n",
       "       0, 2, 2, 2, 2, 2, 0, 0])"
      ]
     },
     "execution_count": 93,
     "metadata": {},
     "output_type": "execute_result"
    }
   ],
   "source": [
    "y_test"
   ]
  },
  {
   "cell_type": "code",
   "execution_count": null,
   "metadata": {
    "colab": {
     "base_uri": "https://localhost:8080/"
    },
    "id": "7-kEJ5ZWPE3h",
    "outputId": "253b7cbe-82c7-4d93-fac3-00f54601266f"
   },
   "outputs": [
    {
     "name": "stdout",
     "output_type": "stream",
     "text": [
      "Accuracy: 1.00\n",
      "Confusion Matrix:\n",
      " [[10  0  0]\n",
      " [ 0  9  0]\n",
      " [ 0  0 11]]\n",
      "Classification Report:\n",
      "               precision    recall  f1-score   support\n",
      "\n",
      "           0       1.00      1.00      1.00        10\n",
      "           1       1.00      1.00      1.00         9\n",
      "           2       1.00      1.00      1.00        11\n",
      "\n",
      "    accuracy                           1.00        30\n",
      "   macro avg       1.00      1.00      1.00        30\n",
      "weighted avg       1.00      1.00      1.00        30\n",
      "\n"
     ]
    }
   ],
   "source": [
    "import numpy as np\n",
    "import pandas as pd\n",
    "from sklearn.model_selection import train_test_split\n",
    "from sklearn.linear_model import LogisticRegression\n",
    "from sklearn.preprocessing import LabelEncoder\n",
    "from sklearn.metrics import accuracy_score, confusion_matrix, classification_report\n",
    "\n",
    "# 1. Cargar el conjunto de datos\n",
    "url = \"https://archive.ics.uci.edu/ml/machine-learning-databases/iris/iris.data\"\n",
    "column_names = [\"sepal_length\", \"sepal_width\", \"petal_length\", \"petal_width\", \"class\"]\n",
    "dataset = pd.read_csv(url, header=None, names=column_names)\n",
    "\n",
    "# 2. Dividir el conjunto de datos en características (X) y etiquetas (y)\n",
    "X = dataset.iloc[:, :-1].values\n",
    "y = dataset.iloc[:, -1].values\n",
    "\n",
    "# 3. Codificar las etiquetas de las clases como números enteros\n",
    "encoder = LabelEncoder()\n",
    "y = encoder.fit_transform(y)\n",
    "\n",
    "# 4. Dividir los datos en conjuntos de entrenamiento y prueba\n",
    "X_train, X_test, y_train, y_test = train_test_split(X, y, test_size=0.2, random_state=42)\n",
    "\n",
    "# 5. Entrenar un modelo de regresión logística con el conjunto de entrenamiento\n",
    "model = LogisticRegression() #no sabe\n",
    "model.fit(X_train, y_train)# ya aprendio\n",
    "\n",
    "# 6. Evaluar el modelo con el conjunto de prueba\n",
    "y_pred = model.predict(X_test)\n",
    "accuracy = accuracy_score(y_test, y_pred)\n",
    "conf_matrix = confusion_matrix(y_test, y_pred)\n",
    "class_report = classification_report(y_test, y_pred)\n",
    "\n",
    "print(f\"Accuracy: {accuracy:.2f}\")\n",
    "print(\"Confusion Matrix:\\n\", conf_matrix)\n",
    "print(\"Classification Report:\\n\", class_report)\n"
   ]
  }
 ],
 "metadata": {
  "colab": {
   "provenance": []
  },
  "kernelspec": {
   "display_name": "Python 3 (ipykernel)",
   "language": "python",
   "name": "python3"
  },
  "language_info": {
   "codemirror_mode": {
    "name": "ipython",
    "version": 3
   },
   "file_extension": ".py",
   "mimetype": "text/x-python",
   "name": "python",
   "nbconvert_exporter": "python",
   "pygments_lexer": "ipython3",
   "version": "3.9.13"
  }
 },
 "nbformat": 4,
 "nbformat_minor": 1
}
